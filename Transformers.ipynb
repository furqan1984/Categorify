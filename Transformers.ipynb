{
  "nbformat": 4,
  "nbformat_minor": 0,
  "metadata": {
    "kernelspec": {
      "display_name": "Python 3",
      "language": "python",
      "name": "python3"
    },
    "language_info": {
      "codemirror_mode": {
        "name": "ipython",
        "version": 3
      },
      "file_extension": ".py",
      "mimetype": "text/x-python",
      "name": "python",
      "nbconvert_exporter": "python",
      "pygments_lexer": "ipython3",
      "version": "3.7.8-final"
    },
    "colab": {
      "name": "Transformers.ipynb",
      "provenance": [],
      "collapsed_sections": []
    },
    "accelerator": "GPU"
  },
  "cells": [
    {
      "cell_type": "code",
      "metadata": {
        "colab": {
          "base_uri": "https://localhost:8080/"
        },
        "id": "qowfBlftoyr7",
        "outputId": "7cca517d-ae88-4c68-e996-7047a804ae60"
      },
      "source": [
        "!pip install transformers\n",
        "from transformers import pipeline\n",
        "import pandas as pd"
      ],
      "execution_count": 1,
      "outputs": [
        {
          "output_type": "stream",
          "text": [
            "Requirement already satisfied: transformers in /usr/local/lib/python3.6/dist-packages (4.0.0)\n",
            "Requirement already satisfied: numpy in /usr/local/lib/python3.6/dist-packages (from transformers) (1.18.5)\n",
            "Requirement already satisfied: sacremoses in /usr/local/lib/python3.6/dist-packages (from transformers) (0.0.43)\n",
            "Requirement already satisfied: dataclasses; python_version < \"3.7\" in /usr/local/lib/python3.6/dist-packages (from transformers) (0.8)\n",
            "Requirement already satisfied: packaging in /usr/local/lib/python3.6/dist-packages (from transformers) (20.4)\n",
            "Requirement already satisfied: tokenizers==0.9.4 in /usr/local/lib/python3.6/dist-packages (from transformers) (0.9.4)\n",
            "Requirement already satisfied: tqdm>=4.27 in /usr/local/lib/python3.6/dist-packages (from transformers) (4.41.1)\n",
            "Requirement already satisfied: filelock in /usr/local/lib/python3.6/dist-packages (from transformers) (3.0.12)\n",
            "Requirement already satisfied: regex!=2019.12.17 in /usr/local/lib/python3.6/dist-packages (from transformers) (2019.12.20)\n",
            "Requirement already satisfied: requests in /usr/local/lib/python3.6/dist-packages (from transformers) (2.23.0)\n",
            "Requirement already satisfied: joblib in /usr/local/lib/python3.6/dist-packages (from sacremoses->transformers) (0.17.0)\n",
            "Requirement already satisfied: six in /usr/local/lib/python3.6/dist-packages (from sacremoses->transformers) (1.15.0)\n",
            "Requirement already satisfied: click in /usr/local/lib/python3.6/dist-packages (from sacremoses->transformers) (7.1.2)\n",
            "Requirement already satisfied: pyparsing>=2.0.2 in /usr/local/lib/python3.6/dist-packages (from packaging->transformers) (2.4.7)\n",
            "Requirement already satisfied: idna<3,>=2.5 in /usr/local/lib/python3.6/dist-packages (from requests->transformers) (2.10)\n",
            "Requirement already satisfied: certifi>=2017.4.17 in /usr/local/lib/python3.6/dist-packages (from requests->transformers) (2020.11.8)\n",
            "Requirement already satisfied: chardet<4,>=3.0.2 in /usr/local/lib/python3.6/dist-packages (from requests->transformers) (3.0.4)\n",
            "Requirement already satisfied: urllib3!=1.25.0,!=1.25.1,<1.26,>=1.21.1 in /usr/local/lib/python3.6/dist-packages (from requests->transformers) (1.24.3)\n"
          ],
          "name": "stdout"
        }
      ]
    },
    {
      "cell_type": "code",
      "metadata": {
        "id": "0-UFxTCY9RLJ"
      },
      "source": [
        "url = 'https://github.com/furqan1984/Categorify/blob/main/all_courses.csv?raw=true'"
      ],
      "execution_count": 2,
      "outputs": []
    },
    {
      "cell_type": "code",
      "metadata": {
        "id": "dOQ75xZG9VWb"
      },
      "source": [
        "data = pd.read_csv(url)"
      ],
      "execution_count": 3,
      "outputs": []
    },
    {
      "cell_type": "code",
      "metadata": {
        "colab": {
          "base_uri": "https://localhost:8080/",
          "height": 402
        },
        "id": "2F0GJBswE45p",
        "outputId": "203cdc0f-c3c2-4304-e046-70cbfa23e7bd"
      },
      "source": [
        "data.head(200)"
      ],
      "execution_count": 4,
      "outputs": [
        {
          "output_type": "execute_result",
          "data": {
            "text/html": [
              "<div>\n",
              "<style scoped>\n",
              "    .dataframe tbody tr th:only-of-type {\n",
              "        vertical-align: middle;\n",
              "    }\n",
              "\n",
              "    .dataframe tbody tr th {\n",
              "        vertical-align: top;\n",
              "    }\n",
              "\n",
              "    .dataframe thead th {\n",
              "        text-align: right;\n",
              "    }\n",
              "</style>\n",
              "<table border=\"1\" class=\"dataframe\">\n",
              "  <thead>\n",
              "    <tr style=\"text-align: right;\">\n",
              "      <th></th>\n",
              "      <th>platform</th>\n",
              "      <th>course_id</th>\n",
              "      <th>course_name</th>\n",
              "      <th>course_category</th>\n",
              "    </tr>\n",
              "  </thead>\n",
              "  <tbody>\n",
              "    <tr>\n",
              "      <th>0</th>\n",
              "      <td>L</td>\n",
              "      <td>l-100222</td>\n",
              "      <td>Git Essential Training (2012)</td>\n",
              "      <td>Software Development</td>\n",
              "    </tr>\n",
              "    <tr>\n",
              "      <th>1</th>\n",
              "      <td>L</td>\n",
              "      <td>l-100223</td>\n",
              "      <td>Learning Screenwriting</td>\n",
              "      <td>Video</td>\n",
              "    </tr>\n",
              "    <tr>\n",
              "      <th>2</th>\n",
              "      <td>L</td>\n",
              "      <td>l-100583</td>\n",
              "      <td>Matting, Framing, and Hanging Your Photographs</td>\n",
              "      <td>[Uncategorized]</td>\n",
              "    </tr>\n",
              "    <tr>\n",
              "      <th>3</th>\n",
              "      <td>L</td>\n",
              "      <td>l-101460</td>\n",
              "      <td>iBooks Author Essential Training</td>\n",
              "      <td>Training and Education</td>\n",
              "    </tr>\n",
              "    <tr>\n",
              "      <th>4</th>\n",
              "      <td>L</td>\n",
              "      <td>l-101504</td>\n",
              "      <td>Negotiation Foundations (2012)</td>\n",
              "      <td>[Uncategorized]</td>\n",
              "    </tr>\n",
              "    <tr>\n",
              "      <th>...</th>\n",
              "      <td>...</td>\n",
              "      <td>...</td>\n",
              "      <td>...</td>\n",
              "      <td>...</td>\n",
              "    </tr>\n",
              "    <tr>\n",
              "      <th>195</th>\n",
              "      <td>L</td>\n",
              "      <td>l-140778</td>\n",
              "      <td>Setting Up Your Mobile Office to Work from Any...</td>\n",
              "      <td>Business Software and Tools</td>\n",
              "    </tr>\n",
              "    <tr>\n",
              "      <th>196</th>\n",
              "      <td>L</td>\n",
              "      <td>l-140780</td>\n",
              "      <td>JavaScript: Events</td>\n",
              "      <td>[Uncategorized]</td>\n",
              "    </tr>\n",
              "    <tr>\n",
              "      <th>197</th>\n",
              "      <td>L</td>\n",
              "      <td>l-140844</td>\n",
              "      <td>UX Foundations: Making the Case for Usability ...</td>\n",
              "      <td>User Experience</td>\n",
              "    </tr>\n",
              "    <tr>\n",
              "      <th>198</th>\n",
              "      <td>L</td>\n",
              "      <td>l-140846</td>\n",
              "      <td>Brooke Shaden's Conceptual Photography: Start ...</td>\n",
              "      <td>Photography</td>\n",
              "    </tr>\n",
              "    <tr>\n",
              "      <th>199</th>\n",
              "      <td>L</td>\n",
              "      <td>l-140920</td>\n",
              "      <td>Super Fans: The Future of the Music Industry</td>\n",
              "      <td>Marketing, Audio and Music, Small Business and...</td>\n",
              "    </tr>\n",
              "  </tbody>\n",
              "</table>\n",
              "<p>200 rows × 4 columns</p>\n",
              "</div>"
            ],
            "text/plain": [
              "    platform  ...                                    course_category\n",
              "0          L  ...                               Software Development\n",
              "1          L  ...                                              Video\n",
              "2          L  ...                                    [Uncategorized]\n",
              "3          L  ...                             Training and Education\n",
              "4          L  ...                                    [Uncategorized]\n",
              "..       ...  ...                                                ...\n",
              "195        L  ...                        Business Software and Tools\n",
              "196        L  ...                                    [Uncategorized]\n",
              "197        L  ...                                    User Experience\n",
              "198        L  ...                                        Photography\n",
              "199        L  ...  Marketing, Audio and Music, Small Business and...\n",
              "\n",
              "[200 rows x 4 columns]"
            ]
          },
          "metadata": {
            "tags": []
          },
          "execution_count": 4
        }
      ]
    },
    {
      "cell_type": "code",
      "metadata": {
        "id": "6RdrizntorDo",
        "colab": {
          "base_uri": "https://localhost:8080/"
        },
        "outputId": "0b99a016-d70a-4b72-bd48-95dff649d15d"
      },
      "source": [
        "classifier = pipeline(\"zero-shot-classification\",\n",
        "                      model=\"facebook/bart-large-mnli\")"
      ],
      "execution_count": 5,
      "outputs": [
        {
          "output_type": "stream",
          "text": [
            "Some weights of the model checkpoint at facebook/bart-large-mnli were not used when initializing BartModel: ['model.encoder.version', 'model.decoder.version']\n",
            "- This IS expected if you are initializing BartModel from the checkpoint of a model trained on another task or with another architecture (e.g. initializing a BertForSequenceClassification model from a BertForPreTraining model).\n",
            "- This IS NOT expected if you are initializing BartModel from the checkpoint of a model that you expect to be exactly identical (initializing a BertForSequenceClassification model from a BertForSequenceClassification model).\n",
            "Some weights of the model checkpoint at facebook/bart-large-mnli were not used when initializing BartForSequenceClassification: ['model.encoder.version', 'model.decoder.version']\n",
            "- This IS expected if you are initializing BartForSequenceClassification from the checkpoint of a model trained on another task or with another architecture (e.g. initializing a BertForSequenceClassification model from a BertForPreTraining model).\n",
            "- This IS NOT expected if you are initializing BartForSequenceClassification from the checkpoint of a model that you expect to be exactly identical (initializing a BertForSequenceClassification model from a BertForSequenceClassification model).\n"
          ],
          "name": "stderr"
        }
      ]
    },
    {
      "cell_type": "code",
      "metadata": {
        "id": "cKNr8UMw9hcD"
      },
      "source": [
        "def get_predictions(sentences, labels):\n",
        "    res_list = {}\n",
        "    for sentence in sentences:\n",
        "        results = classifier(sentence, labels)\n",
        "        res_list[sentence] = results['labels'][0]\n",
        "    return pd.DataFrame(res_list.items(), columns=['Course Name','Category']).set_index('Course Name')"
      ],
      "execution_count": 6,
      "outputs": []
    },
    {
      "cell_type": "code",
      "metadata": {
        "id": "jLawurLeveNp"
      },
      "source": [
        "candidate_labels = ['Cloud','Programming','Networking','Data Science','Leadership','Professional','Web']"
      ],
      "execution_count": 7,
      "outputs": []
    },
    {
      "cell_type": "code",
      "metadata": {
        "id": "wEmGnCfK1bAr"
      },
      "source": [
        "sentences = data.sample(20)['course_name'].values"
      ],
      "execution_count": 8,
      "outputs": []
    },
    {
      "cell_type": "code",
      "metadata": {
        "colab": {
          "base_uri": "https://localhost:8080/",
          "height": 669
        },
        "id": "6thGqE412hcu",
        "outputId": "4e2cee00-a1c0-4a30-f928-55f86d221999"
      },
      "source": [
        "get_predictions(sentences, candidate_labels)"
      ],
      "execution_count": 9,
      "outputs": [
        {
          "output_type": "execute_result",
          "data": {
            "text/html": [
              "<div>\n",
              "<style scoped>\n",
              "    .dataframe tbody tr th:only-of-type {\n",
              "        vertical-align: middle;\n",
              "    }\n",
              "\n",
              "    .dataframe tbody tr th {\n",
              "        vertical-align: top;\n",
              "    }\n",
              "\n",
              "    .dataframe thead th {\n",
              "        text-align: right;\n",
              "    }\n",
              "</style>\n",
              "<table border=\"1\" class=\"dataframe\">\n",
              "  <thead>\n",
              "    <tr style=\"text-align: right;\">\n",
              "      <th></th>\n",
              "      <th>Category</th>\n",
              "    </tr>\n",
              "    <tr>\n",
              "      <th>Course Name</th>\n",
              "      <th></th>\n",
              "    </tr>\n",
              "  </thead>\n",
              "  <tbody>\n",
              "    <tr>\n",
              "      <th>VMware vRealize Orchestrator Cookbook - Second Edition</th>\n",
              "      <td>Professional</td>\n",
              "    </tr>\n",
              "    <tr>\n",
              "      <th>Head First Go</th>\n",
              "      <td>Web</td>\n",
              "    </tr>\n",
              "    <tr>\n",
              "      <th>Introducing MySQL Shell: Administration Made Easy with Python</th>\n",
              "      <td>Programming</td>\n",
              "    </tr>\n",
              "    <tr>\n",
              "      <th>Introduction to SQL Server 2016 Integration Services (SSIS): Getting Started with Extract, Transform, and Load (ETL) Using SSIS</th>\n",
              "      <td>Leadership</td>\n",
              "    </tr>\n",
              "    <tr>\n",
              "      <th>Kubernetes Extensibility: Custom Resource Definitions</th>\n",
              "      <td>Networking</td>\n",
              "    </tr>\n",
              "    <tr>\n",
              "      <th>High Performance Spark</th>\n",
              "      <td>Professional</td>\n",
              "    </tr>\n",
              "    <tr>\n",
              "      <th>Java EE: Concurrency and Multithreading</th>\n",
              "      <td>Programming</td>\n",
              "    </tr>\n",
              "    <tr>\n",
              "      <th>Creating a Product-Centric Organization</th>\n",
              "      <td>Professional</td>\n",
              "    </tr>\n",
              "    <tr>\n",
              "      <th>Developing Financial Applications in F#</th>\n",
              "      <td>Programming</td>\n",
              "    </tr>\n",
              "    <tr>\n",
              "      <th>DIY Coffee</th>\n",
              "      <td>Cloud</td>\n",
              "    </tr>\n",
              "    <tr>\n",
              "      <th>Practitioner's Guide to Program Management</th>\n",
              "      <td>Professional</td>\n",
              "    </tr>\n",
              "    <tr>\n",
              "      <th>Getting Started with Review Board</th>\n",
              "      <td>Professional</td>\n",
              "    </tr>\n",
              "    <tr>\n",
              "      <th>The Java Module System</th>\n",
              "      <td>Programming</td>\n",
              "    </tr>\n",
              "    <tr>\n",
              "      <th>Multicore Programming in Linux</th>\n",
              "      <td>Programming</td>\n",
              "    </tr>\n",
              "    <tr>\n",
              "      <th>Apache Kafka - Developing a Real-time Data Pipeline</th>\n",
              "      <td>Data Science</td>\n",
              "    </tr>\n",
              "    <tr>\n",
              "      <th>The Shellcoder's Handbook: Discovering and Exploiting Security Holes, Second Edition</th>\n",
              "      <td>Professional</td>\n",
              "    </tr>\n",
              "    <tr>\n",
              "      <th>Python + SQL + Tableau: Integrating Python, SQL, and Tableau</th>\n",
              "      <td>Programming</td>\n",
              "    </tr>\n",
              "    <tr>\n",
              "      <th>Troubleshooting Go Application Development</th>\n",
              "      <td>Programming</td>\n",
              "    </tr>\n",
              "    <tr>\n",
              "      <th>Design to Development</th>\n",
              "      <td>Professional</td>\n",
              "    </tr>\n",
              "    <tr>\n",
              "      <th>PowerShell for Sysadmins</th>\n",
              "      <td>Programming</td>\n",
              "    </tr>\n",
              "  </tbody>\n",
              "</table>\n",
              "</div>"
            ],
            "text/plain": [
              "                                                        Category\n",
              "Course Name                                                     \n",
              "VMware vRealize Orchestrator Cookbook - Second ...  Professional\n",
              "Head First Go                                                Web\n",
              "Introducing MySQL Shell: Administration Made Ea...   Programming\n",
              "Introduction to SQL Server 2016 Integration Ser...    Leadership\n",
              "Kubernetes Extensibility: Custom Resource Defin...    Networking\n",
              "High Performance Spark                              Professional\n",
              "Java EE: Concurrency and Multithreading              Programming\n",
              "Creating a Product-Centric Organization             Professional\n",
              "Developing Financial Applications in F#              Programming\n",
              "DIY Coffee                                                 Cloud\n",
              "Practitioner's Guide to Program Management          Professional\n",
              "Getting Started with Review Board                   Professional\n",
              "The Java Module System                               Programming\n",
              "Multicore Programming in Linux                       Programming\n",
              "Apache Kafka - Developing a Real-time Data Pipe...  Data Science\n",
              "The Shellcoder's Handbook: Discovering and Expl...  Professional\n",
              "Python + SQL + Tableau: Integrating Python, SQL...   Programming\n",
              "Troubleshooting Go Application Development           Programming\n",
              "Design to Development                               Professional\n",
              "PowerShell for Sysadmins                             Programming"
            ]
          },
          "metadata": {
            "tags": []
          },
          "execution_count": 9
        }
      ]
    },
    {
      "cell_type": "code",
      "metadata": {
        "id": "iVE9sFfC31WV"
      },
      "source": [
        ""
      ],
      "execution_count": 9,
      "outputs": []
    }
  ]
}