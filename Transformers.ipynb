{
  "nbformat": 4,
  "nbformat_minor": 0,
  "metadata": {
    "kernelspec": {
      "display_name": "Python 3",
      "language": "python",
      "name": "python3"
    },
    "language_info": {
      "codemirror_mode": {
        "name": "ipython",
        "version": 3
      },
      "file_extension": ".py",
      "mimetype": "text/x-python",
      "name": "python",
      "nbconvert_exporter": "python",
      "pygments_lexer": "ipython3",
      "version": "3.7.8-final"
    },
    "colab": {
      "name": "Transformers.ipynb",
      "provenance": [],
      "collapsed_sections": [],
      "include_colab_link": true
    },
    "accelerator": "GPU"
  },
  "cells": [
    {
      "cell_type": "markdown",
      "metadata": {
        "id": "view-in-github",
        "colab_type": "text"
      },
      "source": [
        "<a href=\"https://colab.research.google.com/github/furqan1984/Categorify/blob/main/Transformers.ipynb\" target=\"_parent\"><img src=\"https://colab.research.google.com/assets/colab-badge.svg\" alt=\"Open In Colab\"/></a>"
      ]
    },
    {
      "cell_type": "code",
      "metadata": {
        "colab": {
          "base_uri": "https://localhost:8080/"
        },
        "id": "qowfBlftoyr7",
        "outputId": "c43c57eb-faf0-4707-8cac-a662bc6857d6"
      },
      "source": [
        "!pip install transformers\n",
        "from transformers import pipeline\n",
        "import pandas as pd"
      ],
      "execution_count": 1,
      "outputs": [
        {
          "output_type": "stream",
          "text": [
            "Collecting transformers\n",
            "\u001b[?25l  Downloading https://files.pythonhosted.org/packages/ed/db/98c3ea1a78190dac41c0127a063abf92bd01b4b0b6970a6db1c2f5b66fa0/transformers-4.0.1-py3-none-any.whl (1.4MB)\n",
            "\r\u001b[K     |▎                               | 10kB 22.0MB/s eta 0:00:01\r\u001b[K     |▌                               | 20kB 27.1MB/s eta 0:00:01\r\u001b[K     |▊                               | 30kB 23.9MB/s eta 0:00:01\r\u001b[K     |█                               | 40kB 21.2MB/s eta 0:00:01\r\u001b[K     |█▏                              | 51kB 20.8MB/s eta 0:00:01\r\u001b[K     |█▌                              | 61kB 15.1MB/s eta 0:00:01\r\u001b[K     |█▊                              | 71kB 15.9MB/s eta 0:00:01\r\u001b[K     |██                              | 81kB 15.2MB/s eta 0:00:01\r\u001b[K     |██▏                             | 92kB 14.8MB/s eta 0:00:01\r\u001b[K     |██▍                             | 102kB 15.0MB/s eta 0:00:01\r\u001b[K     |██▋                             | 112kB 15.0MB/s eta 0:00:01\r\u001b[K     |███                             | 122kB 15.0MB/s eta 0:00:01\r\u001b[K     |███▏                            | 133kB 15.0MB/s eta 0:00:01\r\u001b[K     |███▍                            | 143kB 15.0MB/s eta 0:00:01\r\u001b[K     |███▋                            | 153kB 15.0MB/s eta 0:00:01\r\u001b[K     |███▉                            | 163kB 15.0MB/s eta 0:00:01\r\u001b[K     |████▏                           | 174kB 15.0MB/s eta 0:00:01\r\u001b[K     |████▍                           | 184kB 15.0MB/s eta 0:00:01\r\u001b[K     |████▋                           | 194kB 15.0MB/s eta 0:00:01\r\u001b[K     |████▉                           | 204kB 15.0MB/s eta 0:00:01\r\u001b[K     |█████                           | 215kB 15.0MB/s eta 0:00:01\r\u001b[K     |█████▎                          | 225kB 15.0MB/s eta 0:00:01\r\u001b[K     |█████▋                          | 235kB 15.0MB/s eta 0:00:01\r\u001b[K     |█████▉                          | 245kB 15.0MB/s eta 0:00:01\r\u001b[K     |██████                          | 256kB 15.0MB/s eta 0:00:01\r\u001b[K     |██████▎                         | 266kB 15.0MB/s eta 0:00:01\r\u001b[K     |██████▌                         | 276kB 15.0MB/s eta 0:00:01\r\u001b[K     |██████▉                         | 286kB 15.0MB/s eta 0:00:01\r\u001b[K     |███████                         | 296kB 15.0MB/s eta 0:00:01\r\u001b[K     |███████▎                        | 307kB 15.0MB/s eta 0:00:01\r\u001b[K     |███████▌                        | 317kB 15.0MB/s eta 0:00:01\r\u001b[K     |███████▊                        | 327kB 15.0MB/s eta 0:00:01\r\u001b[K     |████████                        | 337kB 15.0MB/s eta 0:00:01\r\u001b[K     |████████▎                       | 348kB 15.0MB/s eta 0:00:01\r\u001b[K     |████████▌                       | 358kB 15.0MB/s eta 0:00:01\r\u001b[K     |████████▊                       | 368kB 15.0MB/s eta 0:00:01\r\u001b[K     |█████████                       | 378kB 15.0MB/s eta 0:00:01\r\u001b[K     |█████████▏                      | 389kB 15.0MB/s eta 0:00:01\r\u001b[K     |█████████▌                      | 399kB 15.0MB/s eta 0:00:01\r\u001b[K     |█████████▊                      | 409kB 15.0MB/s eta 0:00:01\r\u001b[K     |██████████                      | 419kB 15.0MB/s eta 0:00:01\r\u001b[K     |██████████▏                     | 430kB 15.0MB/s eta 0:00:01\r\u001b[K     |██████████▍                     | 440kB 15.0MB/s eta 0:00:01\r\u001b[K     |██████████▋                     | 450kB 15.0MB/s eta 0:00:01\r\u001b[K     |███████████                     | 460kB 15.0MB/s eta 0:00:01\r\u001b[K     |███████████▏                    | 471kB 15.0MB/s eta 0:00:01\r\u001b[K     |███████████▍                    | 481kB 15.0MB/s eta 0:00:01\r\u001b[K     |███████████▋                    | 491kB 15.0MB/s eta 0:00:01\r\u001b[K     |███████████▉                    | 501kB 15.0MB/s eta 0:00:01\r\u001b[K     |████████████▏                   | 512kB 15.0MB/s eta 0:00:01\r\u001b[K     |████████████▍                   | 522kB 15.0MB/s eta 0:00:01\r\u001b[K     |████████████▋                   | 532kB 15.0MB/s eta 0:00:01\r\u001b[K     |████████████▉                   | 542kB 15.0MB/s eta 0:00:01\r\u001b[K     |█████████████                   | 552kB 15.0MB/s eta 0:00:01\r\u001b[K     |█████████████▎                  | 563kB 15.0MB/s eta 0:00:01\r\u001b[K     |█████████████▋                  | 573kB 15.0MB/s eta 0:00:01\r\u001b[K     |█████████████▉                  | 583kB 15.0MB/s eta 0:00:01\r\u001b[K     |██████████████                  | 593kB 15.0MB/s eta 0:00:01\r\u001b[K     |██████████████▎                 | 604kB 15.0MB/s eta 0:00:01\r\u001b[K     |██████████████▌                 | 614kB 15.0MB/s eta 0:00:01\r\u001b[K     |██████████████▉                 | 624kB 15.0MB/s eta 0:00:01\r\u001b[K     |███████████████                 | 634kB 15.0MB/s eta 0:00:01\r\u001b[K     |███████████████▎                | 645kB 15.0MB/s eta 0:00:01\r\u001b[K     |███████████████▌                | 655kB 15.0MB/s eta 0:00:01\r\u001b[K     |███████████████▊                | 665kB 15.0MB/s eta 0:00:01\r\u001b[K     |████████████████                | 675kB 15.0MB/s eta 0:00:01\r\u001b[K     |████████████████▎               | 686kB 15.0MB/s eta 0:00:01\r\u001b[K     |████████████████▌               | 696kB 15.0MB/s eta 0:00:01\r\u001b[K     |████████████████▊               | 706kB 15.0MB/s eta 0:00:01\r\u001b[K     |█████████████████               | 716kB 15.0MB/s eta 0:00:01\r\u001b[K     |█████████████████▏              | 727kB 15.0MB/s eta 0:00:01\r\u001b[K     |█████████████████▌              | 737kB 15.0MB/s eta 0:00:01\r\u001b[K     |█████████████████▊              | 747kB 15.0MB/s eta 0:00:01\r\u001b[K     |██████████████████              | 757kB 15.0MB/s eta 0:00:01\r\u001b[K     |██████████████████▏             | 768kB 15.0MB/s eta 0:00:01\r\u001b[K     |██████████████████▍             | 778kB 15.0MB/s eta 0:00:01\r\u001b[K     |██████████████████▋             | 788kB 15.0MB/s eta 0:00:01\r\u001b[K     |███████████████████             | 798kB 15.0MB/s eta 0:00:01\r\u001b[K     |███████████████████▏            | 808kB 15.0MB/s eta 0:00:01\r\u001b[K     |███████████████████▍            | 819kB 15.0MB/s eta 0:00:01\r\u001b[K     |███████████████████▋            | 829kB 15.0MB/s eta 0:00:01\r\u001b[K     |███████████████████▉            | 839kB 15.0MB/s eta 0:00:01\r\u001b[K     |████████████████████▏           | 849kB 15.0MB/s eta 0:00:01\r\u001b[K     |████████████████████▍           | 860kB 15.0MB/s eta 0:00:01\r\u001b[K     |████████████████████▋           | 870kB 15.0MB/s eta 0:00:01\r\u001b[K     |████████████████████▉           | 880kB 15.0MB/s eta 0:00:01\r\u001b[K     |█████████████████████           | 890kB 15.0MB/s eta 0:00:01\r\u001b[K     |█████████████████████▎          | 901kB 15.0MB/s eta 0:00:01\r\u001b[K     |█████████████████████▋          | 911kB 15.0MB/s eta 0:00:01\r\u001b[K     |█████████████████████▉          | 921kB 15.0MB/s eta 0:00:01\r\u001b[K     |██████████████████████          | 931kB 15.0MB/s eta 0:00:01\r\u001b[K     |██████████████████████▎         | 942kB 15.0MB/s eta 0:00:01\r\u001b[K     |██████████████████████▌         | 952kB 15.0MB/s eta 0:00:01\r\u001b[K     |██████████████████████▊         | 962kB 15.0MB/s eta 0:00:01\r\u001b[K     |███████████████████████         | 972kB 15.0MB/s eta 0:00:01\r\u001b[K     |███████████████████████▎        | 983kB 15.0MB/s eta 0:00:01\r\u001b[K     |███████████████████████▌        | 993kB 15.0MB/s eta 0:00:01\r\u001b[K     |███████████████████████▊        | 1.0MB 15.0MB/s eta 0:00:01\r\u001b[K     |████████████████████████        | 1.0MB 15.0MB/s eta 0:00:01\r\u001b[K     |████████████████████████▎       | 1.0MB 15.0MB/s eta 0:00:01\r\u001b[K     |████████████████████████▌       | 1.0MB 15.0MB/s eta 0:00:01\r\u001b[K     |████████████████████████▊       | 1.0MB 15.0MB/s eta 0:00:01\r\u001b[K     |█████████████████████████       | 1.1MB 15.0MB/s eta 0:00:01\r\u001b[K     |█████████████████████████▏      | 1.1MB 15.0MB/s eta 0:00:01\r\u001b[K     |█████████████████████████▍      | 1.1MB 15.0MB/s eta 0:00:01\r\u001b[K     |█████████████████████████▊      | 1.1MB 15.0MB/s eta 0:00:01\r\u001b[K     |██████████████████████████      | 1.1MB 15.0MB/s eta 0:00:01\r\u001b[K     |██████████████████████████▏     | 1.1MB 15.0MB/s eta 0:00:01\r\u001b[K     |██████████████████████████▍     | 1.1MB 15.0MB/s eta 0:00:01\r\u001b[K     |██████████████████████████▋     | 1.1MB 15.0MB/s eta 0:00:01\r\u001b[K     |███████████████████████████     | 1.1MB 15.0MB/s eta 0:00:01\r\u001b[K     |███████████████████████████▏    | 1.1MB 15.0MB/s eta 0:00:01\r\u001b[K     |███████████████████████████▍    | 1.2MB 15.0MB/s eta 0:00:01\r\u001b[K     |███████████████████████████▋    | 1.2MB 15.0MB/s eta 0:00:01\r\u001b[K     |███████████████████████████▉    | 1.2MB 15.0MB/s eta 0:00:01\r\u001b[K     |████████████████████████████    | 1.2MB 15.0MB/s eta 0:00:01\r\u001b[K     |████████████████████████████▍   | 1.2MB 15.0MB/s eta 0:00:01\r\u001b[K     |████████████████████████████▋   | 1.2MB 15.0MB/s eta 0:00:01\r\u001b[K     |████████████████████████████▉   | 1.2MB 15.0MB/s eta 0:00:01\r\u001b[K     |█████████████████████████████   | 1.2MB 15.0MB/s eta 0:00:01\r\u001b[K     |█████████████████████████████▎  | 1.2MB 15.0MB/s eta 0:00:01\r\u001b[K     |█████████████████████████████▋  | 1.2MB 15.0MB/s eta 0:00:01\r\u001b[K     |█████████████████████████████▉  | 1.3MB 15.0MB/s eta 0:00:01\r\u001b[K     |██████████████████████████████  | 1.3MB 15.0MB/s eta 0:00:01\r\u001b[K     |██████████████████████████████▎ | 1.3MB 15.0MB/s eta 0:00:01\r\u001b[K     |██████████████████████████████▌ | 1.3MB 15.0MB/s eta 0:00:01\r\u001b[K     |██████████████████████████████▊ | 1.3MB 15.0MB/s eta 0:00:01\r\u001b[K     |███████████████████████████████ | 1.3MB 15.0MB/s eta 0:00:01\r\u001b[K     |███████████████████████████████▎| 1.3MB 15.0MB/s eta 0:00:01\r\u001b[K     |███████████████████████████████▌| 1.3MB 15.0MB/s eta 0:00:01\r\u001b[K     |███████████████████████████████▊| 1.3MB 15.0MB/s eta 0:00:01\r\u001b[K     |████████████████████████████████| 1.4MB 15.0MB/s eta 0:00:01\r\u001b[K     |████████████████████████████████| 1.4MB 15.0MB/s \n",
            "\u001b[?25hRequirement already satisfied: requests in /usr/local/lib/python3.6/dist-packages (from transformers) (2.23.0)\n",
            "Requirement already satisfied: dataclasses; python_version < \"3.7\" in /usr/local/lib/python3.6/dist-packages (from transformers) (0.8)\n",
            "Collecting tokenizers==0.9.4\n",
            "\u001b[?25l  Downloading https://files.pythonhosted.org/packages/0f/1c/e789a8b12e28be5bc1ce2156cf87cb522b379be9cadc7ad8091a4cc107c4/tokenizers-0.9.4-cp36-cp36m-manylinux2010_x86_64.whl (2.9MB)\n",
            "\u001b[K     |████████████████████████████████| 2.9MB 51.1MB/s \n",
            "\u001b[?25hRequirement already satisfied: tqdm>=4.27 in /usr/local/lib/python3.6/dist-packages (from transformers) (4.41.1)\n",
            "Requirement already satisfied: packaging in /usr/local/lib/python3.6/dist-packages (from transformers) (20.7)\n",
            "Requirement already satisfied: numpy in /usr/local/lib/python3.6/dist-packages (from transformers) (1.18.5)\n",
            "Requirement already satisfied: regex!=2019.12.17 in /usr/local/lib/python3.6/dist-packages (from transformers) (2019.12.20)\n",
            "Requirement already satisfied: filelock in /usr/local/lib/python3.6/dist-packages (from transformers) (3.0.12)\n",
            "Collecting sacremoses\n",
            "\u001b[?25l  Downloading https://files.pythonhosted.org/packages/7d/34/09d19aff26edcc8eb2a01bed8e98f13a1537005d31e95233fd48216eed10/sacremoses-0.0.43.tar.gz (883kB)\n",
            "\u001b[K     |████████████████████████████████| 890kB 50.2MB/s \n",
            "\u001b[?25hRequirement already satisfied: idna<3,>=2.5 in /usr/local/lib/python3.6/dist-packages (from requests->transformers) (2.10)\n",
            "Requirement already satisfied: urllib3!=1.25.0,!=1.25.1,<1.26,>=1.21.1 in /usr/local/lib/python3.6/dist-packages (from requests->transformers) (1.24.3)\n",
            "Requirement already satisfied: chardet<4,>=3.0.2 in /usr/local/lib/python3.6/dist-packages (from requests->transformers) (3.0.4)\n",
            "Requirement already satisfied: certifi>=2017.4.17 in /usr/local/lib/python3.6/dist-packages (from requests->transformers) (2020.12.5)\n",
            "Requirement already satisfied: pyparsing>=2.0.2 in /usr/local/lib/python3.6/dist-packages (from packaging->transformers) (2.4.7)\n",
            "Requirement already satisfied: six in /usr/local/lib/python3.6/dist-packages (from sacremoses->transformers) (1.15.0)\n",
            "Requirement already satisfied: click in /usr/local/lib/python3.6/dist-packages (from sacremoses->transformers) (7.1.2)\n",
            "Requirement already satisfied: joblib in /usr/local/lib/python3.6/dist-packages (from sacremoses->transformers) (0.17.0)\n",
            "Building wheels for collected packages: sacremoses\n",
            "  Building wheel for sacremoses (setup.py) ... \u001b[?25l\u001b[?25hdone\n",
            "  Created wheel for sacremoses: filename=sacremoses-0.0.43-cp36-none-any.whl size=893261 sha256=51347b6acf09f75725aa5876344cbfff688d3956eec2da6b9b3b20603c4aec1f\n",
            "  Stored in directory: /root/.cache/pip/wheels/29/3c/fd/7ce5c3f0666dab31a50123635e6fb5e19ceb42ce38d4e58f45\n",
            "Successfully built sacremoses\n",
            "Installing collected packages: tokenizers, sacremoses, transformers\n",
            "Successfully installed sacremoses-0.0.43 tokenizers-0.9.4 transformers-4.0.1\n"
          ],
          "name": "stdout"
        }
      ]
    },
    {
      "cell_type": "code",
      "metadata": {
        "id": "0-UFxTCY9RLJ"
      },
      "source": [
        "url = 'https://github.com/furqan1984/Categorify/blob/main/all_courses.csv?raw=true'"
      ],
      "execution_count": 2,
      "outputs": []
    },
    {
      "cell_type": "code",
      "metadata": {
        "id": "dOQ75xZG9VWb"
      },
      "source": [
        "data = pd.read_csv(url)"
      ],
      "execution_count": 3,
      "outputs": []
    },
    {
      "cell_type": "code",
      "metadata": {
        "id": "2F0GJBswE45p"
      },
      "source": [
        "data.head(200)"
      ],
      "execution_count": null,
      "outputs": []
    },
    {
      "cell_type": "code",
      "metadata": {
        "id": "6RdrizntorDo"
      },
      "source": [
        "classifier = pipeline(\"zero-shot-classification\",\n",
        "                      model=\"facebook/bart-large-mnli\")"
      ],
      "execution_count": null,
      "outputs": []
    },
    {
      "cell_type": "code",
      "metadata": {
        "id": "cKNr8UMw9hcD"
      },
      "source": [
        "def get_predictions(df, labels):\n",
        "    res_list = {}\n",
        "    for sentence in df['course_name'].values:\n",
        "        results = classifier(sentence, labels)\n",
        "        res_list[sentence] = results['labels'][0]\n",
        "    return pd.DataFrame(res_list.items(), columns=['Course Name','Category']).set_index('Course Name')"
      ],
      "execution_count": 7,
      "outputs": []
    },
    {
      "cell_type": "code",
      "metadata": {
        "id": "jLawurLeveNp"
      },
      "source": [
        "candidate_labels = ['Cloud','Programming','Networking','Data Science','Leadership','Personal','Web']"
      ],
      "execution_count": 33,
      "outputs": []
    },
    {
      "cell_type": "code",
      "metadata": {
        "id": "wEmGnCfK1bAr"
      },
      "source": [
        "sentences = data.sample(20)"
      ],
      "execution_count": 34,
      "outputs": []
    },
    {
      "cell_type": "code",
      "metadata": {
        "id": "T1m9eV1cM4cU"
      },
      "source": [
        "def get_preds(sentence):\r\n",
        "    return classifier(sentence, candidate_labels)['labels'][0]"
      ],
      "execution_count": 35,
      "outputs": []
    },
    {
      "cell_type": "code",
      "metadata": {
        "id": "aw2aHagKKzj1"
      },
      "source": [
        "sentences['predictions'] = sentences['course_name'].apply(lambda x: get_preds(x))"
      ],
      "execution_count": 36,
      "outputs": []
    },
    {
      "cell_type": "code",
      "metadata": {
        "id": "yBRsxGR-N0IK",
        "outputId": "6d4c9100-8990-424e-a080-1cd746d67512",
        "colab": {
          "base_uri": "https://localhost:8080/",
          "height": 639
        }
      },
      "source": [
        "sentences"
      ],
      "execution_count": 37,
      "outputs": [
        {
          "output_type": "execute_result",
          "data": {
            "text/html": [
              "<div>\n",
              "<style scoped>\n",
              "    .dataframe tbody tr th:only-of-type {\n",
              "        vertical-align: middle;\n",
              "    }\n",
              "\n",
              "    .dataframe tbody tr th {\n",
              "        vertical-align: top;\n",
              "    }\n",
              "\n",
              "    .dataframe thead th {\n",
              "        text-align: right;\n",
              "    }\n",
              "</style>\n",
              "<table border=\"1\" class=\"dataframe\">\n",
              "  <thead>\n",
              "    <tr style=\"text-align: right;\">\n",
              "      <th></th>\n",
              "      <th>platform</th>\n",
              "      <th>course_id</th>\n",
              "      <th>course_name</th>\n",
              "      <th>course_category</th>\n",
              "      <th>predictions</th>\n",
              "    </tr>\n",
              "  </thead>\n",
              "  <tbody>\n",
              "    <tr>\n",
              "      <th>35866</th>\n",
              "      <td>U</td>\n",
              "      <td>u-2915448</td>\n",
              "      <td>Video Conferencing Zoom Skype WebEX Tech Prese...</td>\n",
              "      <td>Office Productivity</td>\n",
              "      <td>Web</td>\n",
              "    </tr>\n",
              "    <tr>\n",
              "      <th>15846</th>\n",
              "      <td>S</td>\n",
              "      <td>s-9780132967426</td>\n",
              "      <td>Create Your Own Blog: 6 Easy Projects to Start...</td>\n",
              "      <td>Content Management Systems</td>\n",
              "      <td>Cloud</td>\n",
              "    </tr>\n",
              "    <tr>\n",
              "      <th>3617</th>\n",
              "      <td>L</td>\n",
              "      <td>l-530531</td>\n",
              "      <td>Windows Server 2016: DNS</td>\n",
              "      <td>Network and System Administration, Continuing ...</td>\n",
              "      <td>Networking</td>\n",
              "    </tr>\n",
              "    <tr>\n",
              "      <th>28699</th>\n",
              "      <td>S</td>\n",
              "      <td>s-9781786462909</td>\n",
              "      <td>Angular 6 for Enterprise-Ready Web Applications</td>\n",
              "      <td>JavaScript</td>\n",
              "      <td>Web</td>\n",
              "    </tr>\n",
              "    <tr>\n",
              "      <th>39616</th>\n",
              "      <td>ENG</td>\n",
              "      <td>COT00273625</td>\n",
              "      <td>Orchestrating Docker &amp; Networking</td>\n",
              "      <td>Cloud and Distributed Computing</td>\n",
              "      <td>Networking</td>\n",
              "    </tr>\n",
              "    <tr>\n",
              "      <th>11552</th>\n",
              "      <td>S</td>\n",
              "      <td>s-013451064X</td>\n",
              "      <td>Java Concurrency, 2/e</td>\n",
              "      <td>Java</td>\n",
              "      <td>Programming</td>\n",
              "    </tr>\n",
              "    <tr>\n",
              "      <th>14491</th>\n",
              "      <td>S</td>\n",
              "      <td>s-735712085</td>\n",
              "      <td>Beyond Borders: Web Globalization Strategies</td>\n",
              "      <td>Web Performance</td>\n",
              "      <td>Web</td>\n",
              "    </tr>\n",
              "    <tr>\n",
              "      <th>39076</th>\n",
              "      <td>ENG</td>\n",
              "      <td>COT00237298</td>\n",
              "      <td>CMAD - Modern Application Development Essentia...</td>\n",
              "      <td>Software Development</td>\n",
              "      <td>Programming</td>\n",
              "    </tr>\n",
              "    <tr>\n",
              "      <th>1743</th>\n",
              "      <td>L</td>\n",
              "      <td>l-2825035</td>\n",
              "      <td>Freelancing Foundations</td>\n",
              "      <td>Project Management, Small Business and Entrepr...</td>\n",
              "      <td>Cloud</td>\n",
              "    </tr>\n",
              "    <tr>\n",
              "      <th>5118</th>\n",
              "      <td>L</td>\n",
              "      <td>l-696875</td>\n",
              "      <td>Design a High-Impact Sell Sheet</td>\n",
              "      <td>Marketing, Graphic Design</td>\n",
              "      <td>Leadership</td>\n",
              "    </tr>\n",
              "    <tr>\n",
              "      <th>36928</th>\n",
              "      <td>U</td>\n",
              "      <td>u-754576</td>\n",
              "      <td>Emergency Life Support</td>\n",
              "      <td>Health &amp; Fitness</td>\n",
              "      <td>Cloud</td>\n",
              "    </tr>\n",
              "    <tr>\n",
              "      <th>31564</th>\n",
              "      <td>S</td>\n",
              "      <td>s-9781838826222</td>\n",
              "      <td>Vue.js 3 Cookbook</td>\n",
              "      <td>JavaScript</td>\n",
              "      <td>Programming</td>\n",
              "    </tr>\n",
              "    <tr>\n",
              "      <th>23910</th>\n",
              "      <td>S</td>\n",
              "      <td>s-9781491962572</td>\n",
              "      <td>Designing for Product Strategy</td>\n",
              "      <td>Product Management</td>\n",
              "      <td>Cloud</td>\n",
              "    </tr>\n",
              "    <tr>\n",
              "      <th>27044</th>\n",
              "      <td>S</td>\n",
              "      <td>s-9781628255669</td>\n",
              "      <td>The Standard for Risk Management in Portfolios...</td>\n",
              "      <td>Auditing &amp; Risk Management</td>\n",
              "      <td>Leadership</td>\n",
              "    </tr>\n",
              "    <tr>\n",
              "      <th>21016</th>\n",
              "      <td>S</td>\n",
              "      <td>s-9781284116465</td>\n",
              "      <td>Fundamentals of Information Systems Security, ...</td>\n",
              "      <td>CISA (Certified Information Systems Auditor)</td>\n",
              "      <td>Web</td>\n",
              "    </tr>\n",
              "    <tr>\n",
              "      <th>35634</th>\n",
              "      <td>U</td>\n",
              "      <td>u-2611022</td>\n",
              "      <td>A Practical Guide To SFDX and Salesforce CLI</td>\n",
              "      <td>IT &amp; Software</td>\n",
              "      <td>Programming</td>\n",
              "    </tr>\n",
              "    <tr>\n",
              "      <th>13619</th>\n",
              "      <td>S</td>\n",
              "      <td>s-636920360797</td>\n",
              "      <td>Machine learning for the enterprise: Superchar...</td>\n",
              "      <td>Machine Learning</td>\n",
              "      <td>Data Science</td>\n",
              "    </tr>\n",
              "    <tr>\n",
              "      <th>3609</th>\n",
              "      <td>L</td>\n",
              "      <td>l-530081</td>\n",
              "      <td>Camtasia 3 for Mac Essential Training</td>\n",
              "      <td>Training and Education</td>\n",
              "      <td>Cloud</td>\n",
              "    </tr>\n",
              "    <tr>\n",
              "      <th>5374</th>\n",
              "      <td>L</td>\n",
              "      <td>l-721923</td>\n",
              "      <td>Writing With Flair: How To Become An Exception...</td>\n",
              "      <td>Professional Development</td>\n",
              "      <td>Cloud</td>\n",
              "    </tr>\n",
              "    <tr>\n",
              "      <th>38251</th>\n",
              "      <td>ENG</td>\n",
              "      <td>COT00158598</td>\n",
              "      <td>Neuroscience of Learning Seminar</td>\n",
              "      <td>Professional Development</td>\n",
              "      <td>Web</td>\n",
              "    </tr>\n",
              "  </tbody>\n",
              "</table>\n",
              "</div>"
            ],
            "text/plain": [
              "      platform  ...   predictions\n",
              "35866        U  ...           Web\n",
              "15846        S  ...         Cloud\n",
              "3617         L  ...    Networking\n",
              "28699        S  ...           Web\n",
              "39616      ENG  ...    Networking\n",
              "11552        S  ...   Programming\n",
              "14491        S  ...           Web\n",
              "39076      ENG  ...   Programming\n",
              "1743         L  ...         Cloud\n",
              "5118         L  ...    Leadership\n",
              "36928        U  ...         Cloud\n",
              "31564        S  ...   Programming\n",
              "23910        S  ...         Cloud\n",
              "27044        S  ...    Leadership\n",
              "21016        S  ...           Web\n",
              "35634        U  ...   Programming\n",
              "13619        S  ...  Data Science\n",
              "3609         L  ...         Cloud\n",
              "5374         L  ...         Cloud\n",
              "38251      ENG  ...           Web\n",
              "\n",
              "[20 rows x 5 columns]"
            ]
          },
          "metadata": {
            "tags": []
          },
          "execution_count": 37
        }
      ]
    }
  ]
}